{
  "cells": [
    {
      "cell_type": "markdown",
      "metadata": {
        "id": "view-in-github",
        "colab_type": "text"
      },
      "source": [
        "<a href=\"https://colab.research.google.com/github/ValliamaiRM/Sunspot_MagneticField_WFA/blob/main/MagneticField_Sunspot_WFA.ipynb\" target=\"_parent\"><img src=\"https://colab.research.google.com/assets/colab-badge.svg\" alt=\"Open In Colab\"/></a>"
      ]
    },
    {
      "cell_type": "code",
      "execution_count": null,
      "metadata": {
        "id": "bwTdiaRnlkwB"
      },
      "outputs": [],
      "source": [
        "#importing all the neccesary libriries\n",
        "%matplotlib tk\n",
        "import astropy.io.fits\n",
        "import numpy as np\n",
        "import matplotlib.pyplot as plt\n",
        "import scipy.ndimage\n",
        "from sklearn.linear_model import LinearRegression\n",
        "import math"
      ]
    },
    {
      "cell_type": "code",
      "execution_count": null,
      "metadata": {
        "id": "Ylt1jOP3lkwE",
        "outputId": "22cb08ea-e012-497c-c1ab-6ca59ad0ad15"
      },
      "outputs": [
        {
          "name": "stdout",
          "output_type": "stream",
          "text": [
            "\\Stokeim_20160428_12035179.fits\n"
          ]
        }
      ],
      "source": [
        "#locating the data fits file \n",
        "base_path = r'G:\\Sunspot Data'\n",
        "filename_list = list()\n",
        "filename_list.append(\"\\Stokeim_20160428_12035179.fits\")\n",
        "filename_list.append(\"\\Stokeim_20160428_12043084.fits\")\n",
        "filename_list.append(\"\\Stokeim_20160428_12051015.fits\")\n",
        "filename_list.append(\"\\Stokeim_20160428_12054932.fits\")\n",
        "filename_list.append(\"\\Stokeim_20160428_12062853.fits\")\n",
        "filename_list.append(\"\\Stokeim_20160428_12070789.fits\")\n",
        "filename_list.append(\"\\Stokeim_20160428_12074717.fits\")\n",
        "filename_list.append(\"\\Stokeim_20160428_12082617.fits\")\n",
        "filename_list.append(\"\\Stokeim_20160428_12090537.fits\")\n",
        "filename_list.append(\"\\Stokeim_20160428_12094484.fits\")\n",
        "filename_list.append(\"\\Stokeim_20160428_12102409.fits\")\n",
        "filename_list.append(\"\\Stokeim_20160428_12110343.fits\")\n",
        "filename_list.append(\"\\Stokeim_20160428_12114285.fits\")\n",
        "filename_list.append(\"\\Stokeim_20160428_12122215.fits\")\n",
        "print(filename_list[0])"
      ]
    },
    {
      "cell_type": "code",
      "execution_count": null,
      "metadata": {
        "id": "HDflnRQtlkwH"
      },
      "outputs": [],
      "source": [
        "#Functions for line of sight magnetic field\n",
        "#The following function computes the numerator value of the los magnetic field as given in Centeno(2018)\n",
        "def numerator_for_LOS_magnetic_field(l,ypixelno,SI,SV):\n",
        "    x = np.array(wl[l-1:l+1]).reshape((-1, 1))\n",
        "    y = np.array(SI[ypixelno,l-1:l+1])\n",
        "    model = LinearRegression().fit(x, y)\n",
        "    slope=model.coef_\n",
        "    slopebyI=slope/SI[ypixelno,l]\n",
        "    num=slopebyI*SV[ypixelno,l]\n",
        "    return num\n",
        "#The following function computes the denominator value of the los magnetic field as given in Centeno(2018)\n",
        "def denominator_for_LOS_magnetic_field(l,pixelno,SI):\n",
        "    x = np.array(wl[l-1:l+1]).reshape((-1, 1))\n",
        "    y = np.array(SI[ypixelno,l-1:l+1])\n",
        "    model = LinearRegression().fit(x, y)\n",
        "    slope=model.coef_\n",
        "    slopebyI=slope/SI[ypixelno,l]\n",
        "    den= slopebyI**2\n",
        "    return den\n",
        "#The following function computes the los magnetic field for a given y pixel no.\n",
        "def PhotosphericBlosForGivenYPixel(l,SI,SV,ypixelno):\n",
        "    wfe=35442.63616\n",
        "    numerator=0\n",
        "    denominator=0\n",
        "    for i in range(len(l)):\n",
        "        numerator+=numerator_for_LOS_magnetic_field(l[i],ypixelno,SI,SV)\n",
        "        denominator+=denominator_for_LOS_magnetic_field(l[i],ypixelno,SI)\n",
        "    Blosvalue= (-1)*(wfe*numerator)/denominator\n",
        "    return Blosvalue\n",
        "def chromosphericBlosForGivenYPixel(l,SI,SV,ypixelno):\n",
        "    w_halpha=46034.10475\n",
        "    numerator=0\n",
        "    denominator=0\n",
        "    for i in range(len(l)):\n",
        "        numerator+=numerator_for_LOS_magnetic_field(l[i],ypixelno,SI,SV)\n",
        "        denominator+=denominator_for_LOS_magnetic_field(l[i],ypixelno,SI)\n",
        "    Blosvalue= (-1)*(w_halpha*numerator)/denominator\n",
        "    return Blosvalue\n",
        "#The following function computes the numerator value of the Transverse magnetic field as given in Centeno(2018)\n",
        "def numerator_for_transverse_magnetic_field(l,ypixelno,SI,SU,SQ,wl,ct):\n",
        "    x = np.array(wl[l-1:l+1]).reshape((-1, 1))\n",
        "    y = np.array(SI[ypixelno,l-1:l+1])\n",
        "    model = LinearRegression().fit(x, y)\n",
        "    slope=model.coef_\n",
        "    slopebyI=abs(slope/SI[ypixelno,l])\n",
        "    SL=((SQ[ypixelno,l])**2)+(((SU[ypixelno,l]))**2)\n",
        "    num=(4/3)*(1/ct)*slopebyI*(SL**0.5)*abs(((wl[l]-6569.231)))\n",
        "    return num\n",
        "#The following function computes the denominater value of the transverse magnetic field as given in Centeno(2018)\n",
        "def denominator_for_transverse_magnetic_field(l,pixelno,SI,wl):\n",
        "    x = np.array(wl[l-1:l+1]).reshape((-1, 1))\n",
        "    y = np.array(SI[ypixelno,l-1:l+1])\n",
        "    model = LinearRegression().fit(x, y)\n",
        "    slope=model.coef_\n",
        "    slopebyI=abs(slope/SI[ypixelno,l])\n",
        "    den=((slopebyI**2))*(abs(((wl[l]-6569.231))))**2\n",
        "    return den\n",
        "#The following function computes the transverse magnetic field for a given y pixel no.\n",
        "def PhotosphericBTransForGivenYPixel(l,SI,SU,SQ,ypixelno,wl):\n",
        "    CTfe=5.682762555e-4\n",
        "    numerator=0\n",
        "    denominator=0\n",
        "    for i in range(len(l)):\n",
        "        numerator+=numerator_for_transverse_magnetic_field(l[i],ypixelno,SI,SU,SQ,wl,CTfe)\n",
        "        denominator+=denominator_for_transverse_magnetic_field(l[i],ypixelno,SI,wl)\n",
        "    Blosvalue= (((numerator))/(denominator))**0.5\n",
        "    return Blosvalue\n",
        "def chrompsphericBTransForGivenYPixel(l,SI,SU,SQ,ypixelno):\n",
        "    CT_halpha=4.366730722e-4\n",
        "    numerator=0\n",
        "    denominator=0\n",
        "    for i in range(len(l)):\n",
        "        numerator+=numerator_for_transverse_magnetic_field(l[i],ypixelno,SI,SU,SQ,wl,CT_halpha)\n",
        "        denominator+=denominator_for_transverse_magnetic_field(l[i],ypixelno,SI,wl)\n",
        "    Blosvalue= (((4/3)*(1/CT_halpha)*(numerator))/(denominator))**0.5\n",
        "    return Blosvalue"
      ]
    },
    {
      "cell_type": "code",
      "execution_count": null,
      "metadata": {
        "id": "QH9gdrNPlkwI"
      },
      "outputs": [],
      "source": [
        "#Pixel to wavelength conversion\n",
        "wl=[]\n",
        "for i in range(990):\n",
        "    wl.append((i+1)*0.011298+6559.3)"
      ]
    },
    {
      "cell_type": "code",
      "execution_count": null,
      "metadata": {
        "id": "XPRTflvDlkwK",
        "outputId": "e89efe49-75b7-40f2-e211-cb70f32a6cf0"
      },
      "outputs": [
        {
          "data": {
            "text/plain": [
              "<matplotlib.image.AxesImage at 0x1d6e032def0>"
            ]
          },
          "execution_count": 5,
          "metadata": {},
          "output_type": "execute_result"
        }
      ],
      "source": [
        "#Creating the sunspot continuum image using wavelengths in pixel no. 700 to 750\n",
        "ssimage=np.zeros(shape=(277,14))\n",
        "SS=np.ndarray(shape=(1,277,14))\n",
        "def continuumIntensity(SI,pixelno):\n",
        "    continuumIntensity= np.average(SI[pixelno,700:750])\n",
        "    return continuumIntensity\n",
        "for filename in range(14):\n",
        "    data=astropy.io.fits.getdata(base_path+filename_list[filename])\n",
        "    SI=data[0,]\n",
        "    SI=SI[:,::-1]\n",
        "    SV=data[3,]\n",
        "    SV=SV[:,::-1]\n",
        "    for pixelno in range(277):\n",
        "        ssimage[pixelno,filename]=(continuumIntensity(SI,pixelno))\n",
        "        SS[0]=ssimage\n",
        "\n",
        "\n",
        "\n",
        "plt.imshow(SS[0],aspect=(1/7),origin=0)\n"
      ]
    },
    {
      "cell_type": "code",
      "execution_count": null,
      "metadata": {
        "id": "HDUx_teklkwL",
        "outputId": "e3610a38-dfab-45c8-8455-839c0b56c584"
      },
      "outputs": [
        {
          "data": {
            "text/plain": [
              "<matplotlib.image.AxesImage at 0x1d6e094c860>"
            ]
          },
          "execution_count": 6,
          "metadata": {},
          "output_type": "execute_result"
        }
      ],
      "source": [
        "#Creating los magnetic field image\n",
        "#The following l values are the index of the wavelengths close to the Fe 1 line \n",
        "l=[873,874,875,882,883,884]\n",
        "blos_photospheric=np.zeros(shape=(277,14))\n",
        "BLOS_Photospheric=np.ndarray(shape=(1,277,14))\n",
        "for filename in range(14):\n",
        "    data=astropy.io.fits.getdata(base_path+filename_list[filename])\n",
        "    SI=data[0,]\n",
        "    SI=SI[:,::-1]\n",
        "    SV=data[3,]\n",
        "    SV=SV[:,::-1]\n",
        "    for ypixelno in range(277):\n",
        "        blos_photospheric[ypixelno,filename]=(PhotosphericBlosForGivenYPixel(l,SI,SV,ypixelno))\n",
        "BLOS_Photospheric[0]=blos_photospheric\n",
        "plt.imshow(BLOS_Photospheric[0],aspect=(1/7),origin=0,cmap='gray')"
      ]
    },
    {
      "cell_type": "code",
      "execution_count": null,
      "metadata": {
        "id": "_ztoJmg3lkwM",
        "outputId": "cfcd7438-5f7e-4146-8777-b783c96e8c89"
      },
      "outputs": [
        {
          "data": {
            "text/plain": [
              "<matplotlib.image.AxesImage at 0x1d6e8939198>"
            ]
          },
          "execution_count": 69,
          "metadata": {},
          "output_type": "execute_result"
        }
      ],
      "source": [
        "#Creating transverse magnetic field image \n",
        "btrans_photospheric=np.zeros(shape=(277,14))\n",
        "BTRANS_Photospheric=np.ndarray(shape=(1,277,14))\n",
        "l=[878]\n",
        "for filename in range(14):\n",
        "    data=astropy.io.fits.getdata(base_path+filename_list[filename])\n",
        "    SI=data[0,]\n",
        "    SI=SI[:,::-1]\n",
        "    SQ=data[1,]\n",
        "    SQ=SQ[:,::-1]\n",
        "    SU=data[2,]\n",
        "    SU=SU[:,::-1]\n",
        "    for ypixelno in range(277):\n",
        "        btrans_photospheric[ypixelno,filename]=(PhotosphericBTransForGivenYPixel(l,SI,SU,SQ,ypixelno,wl))\n",
        "BTRANS_Photospheric[0]=btrans_photospheric\n",
        "plt.imshow(BTRANS_Photospheric[0],aspect=(1/7),origin=0)"
      ]
    },
    {
      "cell_type": "code",
      "execution_count": null,
      "metadata": {
        "id": "bThV5tqKlkwN",
        "outputId": "71f02d91-3834-4d31-8e4a-114e572c8d3c"
      },
      "outputs": [
        {
          "data": {
            "text/plain": [
              "<matplotlib.image.AxesImage at 0x1d6e8ac74e0>"
            ]
          },
          "execution_count": 70,
          "metadata": {},
          "output_type": "execute_result"
        }
      ],
      "source": [
        "#Creating Choromospheric los magnetic field image\n",
        "#The following lt values are the index of the wavelengths close to the H alpha line(6560.45-6560.49 & 6560.59-6560.63 A) \n",
        "lt=[290,291,292,293,294,295,320,321,322]\n",
        "blos_chromospheric=np.zeros(shape=(277,14))\n",
        "BLOS_chromospheric=np.ndarray(shape=(1,277,14))\n",
        "for filename in range(14):\n",
        "    data=astropy.io.fits.getdata(base_path+filename_list[filename])\n",
        "    SI=data[0,]\n",
        "    SI=SI[:,::-1]\n",
        "    SV=data[3,]\n",
        "    SV=SV[:,::-1]\n",
        "    for ypixelno in range(277):\n",
        "        blos_chromospheric[ypixelno,filename]=(chromosphericBlosForGivenYPixel(lt,SI,SV,ypixelno))\n",
        "BLOS_chromospheric[0]=blos_chromospheric\n",
        "plt.imshow(BLOS_chromospheric[0],aspect=(1/7),origin=0)"
      ]
    },
    {
      "cell_type": "code",
      "execution_count": null,
      "metadata": {
        "id": "byyn0WQplkwO",
        "outputId": "aa7018db-a879-4949-ea1c-dbada7da3f75"
      },
      "outputs": [
        {
          "data": {
            "text/plain": [
              "<matplotlib.image.AxesImage at 0x1d6e4cdecf8>"
            ]
          },
          "execution_count": 34,
          "metadata": {},
          "output_type": "execute_result"
        }
      ],
      "source": [
        "#Creating transverse magnetic field image \n",
        "btrans_chromospheric=np.zeros(shape=(277,14))\n",
        "BTRANS_chromospheric=np.ndarray(shape=(1,277,14))\n",
        "lt=[308]\n",
        "for filename in range(14):\n",
        "    data=astropy.io.fits.getdata(base_path+filename_list[filename])\n",
        "    SI=data[0,]\n",
        "    SI=SI[:,::-1]\n",
        "    SQ=data[1,]\n",
        "    SQ=SQ[:,::-1]\n",
        "    SU=data[2,]\n",
        "    SU=SU[:,::-1]\n",
        "    for ypixelno in range(277):\n",
        "        btrans_chromospheric[ypixelno,filename]=(chrompsphericBTransForGivenYPixel(lt,SI,SU,SQ,ypixelno))\n",
        "BTRANS_chromospheric[0]=btrans_chromospheric\n",
        "plt.imshow(BTRANS_chromospheric[0],aspect=(1/7),origin=0)\n"
      ]
    },
    {
      "cell_type": "code",
      "execution_count": null,
      "metadata": {
        "id": "zwT23GnplkwP"
      },
      "outputs": [],
      "source": [
        "#plotting contours of same intensity at intensity values - 6.2e4,6.4e4,6.8e4,7e4,7.2e4)\n",
        "from skimage import measure\n",
        "fig,ax=plt.subplots()\n",
        "ax.imshow(SS[0],aspect=(1/7),origin=0)\n",
        "contours0=measure .find_contours(SS[0],6.28e4)\n",
        "for n, contour in enumerate(contours0):\n",
        "    ax.plot(contour[:,1],contour[:,0],linewidth=0.5)\n",
        "contours1=measure .find_contours(SS[0],6.3e4)\n",
        "for n, contour in enumerate(contours1):\n",
        "    ax.plot(contour[:,1],contour[:,0],linewidth=0.5)\n",
        "contours2=measure .find_contours(SS[0],6.34e4)\n",
        "for n, contour in enumerate(contours2):\n",
        "    ax.plot(contour[:,1],contour[:,0],linewidth=0.5)\n",
        "contours3=measure .find_contours(SS[0],6.4e4)\n",
        "for n, contour in enumerate(contours3):\n",
        "    ax.plot(contour[:,1],contour[:,0],linewidth=0.5)\n",
        "contours4=measure .find_contours(SS[0],6.5e4)\n",
        "for n, contour in enumerate(contours4):\n",
        "    ax.plot(contour[:,1],contour[:,0],linewidth=0.5)\n",
        "contours5=measure .find_contours(SS[0],6.6e4)\n",
        "for n, contour in enumerate(contours5):\n",
        "    ax.plot(contour[:,1],contour[:,0],linewidth=0.5)\n",
        "contours6=measure .find_contours(SS[0],6.8e4)\n",
        "for n, contour in enumerate(contours6):\n",
        "    ax.plot(contour[:,1],contour[:,0],linewidth=0.5)\n",
        "contours7=measure .find_contours(SS[0],7e4)\n",
        "for n, contour in enumerate(contours7):\n",
        "    ax.plot(contour[:,1],contour[:,0],linewidth=0.5)\n",
        "contours8=measure .find_contours(SS[0],7.2e4)\n",
        "for n, contour in enumerate(contours8):\n",
        "    ax.plot(contour[:,1],contour[:,0],linewidth=0.5)\n",
        "contours9=measure .find_contours(SS[0],7.4e4)\n",
        "for n, contour in enumerate(contours9):\n",
        "    ax.plot(contour[:,1],contour[:,0],linewidth=0.5)\n",
        "\n",
        "\n",
        "\n",
        "ax.set_xticks([])\n",
        "ax.set_yticks([])\n",
        "\n",
        "plt.show()\n"
      ]
    },
    {
      "cell_type": "code",
      "execution_count": null,
      "metadata": {
        "id": "nP3SLwadlkwQ"
      },
      "outputs": [],
      "source": [
        "#A function to find the mean/average magnetic field over a given contour passed as argument\n",
        "def Average_B_ofGivenContour(contour,B):\n",
        "    Bi=0\n",
        "    averageB=0\n",
        "    for i in range(len(contour[0])):\n",
        "        y=int(contour[0][i][0])\n",
        "        x=int(contour[0][i][1])\n",
        "        Bi+=B[0,y,x]\n",
        "    averageB=Bi/(len(contour[0]))\n",
        "    return averageB"
      ]
    },
    {
      "cell_type": "code",
      "execution_count": null,
      "metadata": {
        "id": "FRyVGJS2lkwQ",
        "outputId": "10f5a873-2c8b-454d-d096-2cdb7fb12eb0"
      },
      "outputs": [
        {
          "name": "stdout",
          "output_type": "stream",
          "text": [
            "[904.3580933108533, 900.7653909080419, 884.5746107645518, 844.8773646980181, 808.2893852051109, 774.7256089882101, 668.6373722281934, 597.6315538576621, 432.1661141063224, 347.4327274047527]\n"
          ]
        }
      ],
      "source": [
        "#Creating an array 'AverageBlosPhotospheric' to store the mean Blos over the different contours.\n",
        "AverageBlosPhotospheric=[]\n",
        "AverageBlosPhotospheric.append(Average_B_ofGivenContour(contours0,BLOS_Photospheric))\n",
        "AverageBlosPhotospheric.append(Average_B_ofGivenContour(contours1,BLOS_Photospheric))\n",
        "AverageBlosPhotospheric.append(Average_B_ofGivenContour(contours2,BLOS_Photospheric))\n",
        "AverageBlosPhotospheric.append(Average_B_ofGivenContour(contours3,BLOS_Photospheric))\n",
        "AverageBlosPhotospheric.append(Average_B_ofGivenContour(contours4,BLOS_Photospheric))\n",
        "AverageBlosPhotospheric.append(Average_B_ofGivenContour(contours5,BLOS_Photospheric))\n",
        "AverageBlosPhotospheric.append(Average_B_ofGivenContour(contours6,BLOS_Photospheric))\n",
        "AverageBlosPhotospheric.append(Average_B_ofGivenContour(contours7,BLOS_Photospheric))\n",
        "AverageBlosPhotospheric.append(Average_B_ofGivenContour(contours8,BLOS_Photospheric))\n",
        "AverageBlosPhotospheric.append(Average_B_ofGivenContour(contours9,BLOS_Photospheric))\n",
        "print(AverageBlosPhotospheric)"
      ]
    },
    {
      "cell_type": "code",
      "execution_count": null,
      "metadata": {
        "id": "8t124c_blkwR",
        "outputId": "80b5b1b2-8966-439f-baf2-6fa8ba6692e6"
      },
      "outputs": [
        {
          "name": "stdout",
          "output_type": "stream",
          "text": [
            "[771.7440358862382, 809.3994952685858, 767.1143769785551, 765.625986241543, 784.654180752413, 817.5202974730851, 821.4118269834707, 792.211439590386, 758.1215696694343, 675.1213477525538]\n"
          ]
        }
      ],
      "source": [
        "#Creating an array 'AverageBtransPhotospheric' to store the mean BTrans over the different contours.\n",
        "AverageBtransPhotospheric=[]\n",
        "AverageBtransPhotospheric.append(Average_B_ofGivenContour(contours0,BTRANS_Photospheric))\n",
        "AverageBtransPhotospheric.append(Average_B_ofGivenContour(contours1,BTRANS_Photospheric))\n",
        "AverageBtransPhotospheric.append(Average_B_ofGivenContour(contours2,BTRANS_Photospheric))\n",
        "AverageBtransPhotospheric.append(Average_B_ofGivenContour(contours3,BTRANS_Photospheric))\n",
        "AverageBtransPhotospheric.append(Average_B_ofGivenContour(contours4,BTRANS_Photospheric))\n",
        "AverageBtransPhotospheric.append(Average_B_ofGivenContour(contours5,BTRANS_Photospheric))\n",
        "AverageBtransPhotospheric.append(Average_B_ofGivenContour(contours6,BTRANS_Photospheric))\n",
        "AverageBtransPhotospheric.append(Average_B_ofGivenContour(contours7,BTRANS_Photospheric))\n",
        "AverageBtransPhotospheric.append(Average_B_ofGivenContour(contours8,BTRANS_Photospheric))\n",
        "AverageBtransPhotospheric.append(Average_B_ofGivenContour(contours9,BTRANS_Photospheric))\n",
        "print(AverageBtransPhotospheric)"
      ]
    },
    {
      "cell_type": "code",
      "execution_count": null,
      "metadata": {
        "id": "i6CJHJXPlkwR",
        "outputId": "e5a7a4b7-4190-409c-883f-8c5dbf4e033b"
      },
      "outputs": [
        {
          "name": "stdout",
          "output_type": "stream",
          "text": [
            "[750.7155821098648, 751.8502136241045, 741.5420357496927, 704.8022280466566, 696.6283263775736, 691.8665678087971, 649.5419982215996, 600.1930586002757, 482.6294393151947, 421.5478929925497]\n"
          ]
        }
      ],
      "source": [
        "#Creating an array 'AverageBloschromospheric' to store the mean Blos over the different contours.\n",
        "AverageBloschromospheric=[]\n",
        "AverageBloschromospheric.append(Average_B_ofGivenContour(contours0,BLOS_chromospheric))\n",
        "AverageBloschromospheric.append(Average_B_ofGivenContour(contours1,BLOS_chromospheric))\n",
        "AverageBloschromospheric.append(Average_B_ofGivenContour(contours2,BLOS_chromospheric))\n",
        "AverageBloschromospheric.append(Average_B_ofGivenContour(contours3,BLOS_chromospheric))\n",
        "AverageBloschromospheric.append(Average_B_ofGivenContour(contours4,BLOS_chromospheric))\n",
        "AverageBloschromospheric.append(Average_B_ofGivenContour(contours5,BLOS_chromospheric))\n",
        "AverageBloschromospheric.append(Average_B_ofGivenContour(contours6,BLOS_chromospheric))\n",
        "AverageBloschromospheric.append(Average_B_ofGivenContour(contours7,BLOS_chromospheric))\n",
        "AverageBloschromospheric.append(Average_B_ofGivenContour(contours8,BLOS_chromospheric))\n",
        "AverageBloschromospheric.append(Average_B_ofGivenContour(contours9,BLOS_chromospheric))\n",
        "print(AverageBloschromospheric)"
      ]
    },
    {
      "cell_type": "code",
      "execution_count": null,
      "metadata": {
        "id": "67pG1ebllkwS",
        "outputId": "143af3a0-32b2-40de-84c9-235ce7a9ca8c"
      },
      "outputs": [
        {
          "name": "stdout",
          "output_type": "stream",
          "text": [
            "[1188.8870500862652, 1210.9937375555496, 1170.8700651124595, 1140.1758251197066, 1126.5051769110946, 1126.2944579472255, 1059.1474519860521, 992.3519734369431, 872.648763581205]\n"
          ]
        }
      ],
      "source": [
        "#Computing the total magnetic field strength in the photospheric height \n",
        "Total_B_Photospheric=[]\n",
        "for i in range(9):\n",
        "    Bx=AverageBlosPhotospheric[i]**2\n",
        "    By=AverageBtransPhotospheric[i]**2\n",
        "    Total_B_Photospheric.append((Bx+By)**0.5)\n",
        "print(Total_B_Photospheric)"
      ]
    },
    {
      "cell_type": "code",
      "execution_count": null,
      "metadata": {
        "id": "MFMCFtkDlkwS",
        "outputId": "0ee4d3d7-e066-4dc0-8efd-6eb518407f83"
      },
      "outputs": [
        {
          "name": "stdout",
          "output_type": "stream",
          "text": [
            "[6, 6.045646065412429, 6.1165072183306535, 6.185433709115081, 6.338753219793457, 6.435369140288579, 6.6123083088219925, 6.81604988537047, 7.065410281317098, 7.3350836959746815]\n",
            "[118, 120.0, 121.0, 123.0, 125.0, 128.0, 132.0, 136.0, 139.0, 145.0]\n"
          ]
        }
      ],
      "source": [
        "for k in range(int(len(contours0[0]))):\n",
        "    x=[6]\n",
        "    y=[118]\n",
        "    if contours0[0][k][1]>6:\n",
        "        angle=contours0[0][k][0]/contours0[0][k][1]\n",
        "\n",
        "        for a in range(int(len(contours1[0]))):\n",
        "            if contours1[0][a][1]>6:\n",
        "                anglenow=contours1[0][a][0]/contours1[0][a][1]\n",
        "                if np.isclose(anglenow,angle,0.011):\n",
        "                    if contours1[0][a][0] not in y and contours1[0][a][1] not in x:\n",
        "                        y.append(contours1[0][a][0])\n",
        "                        x.append(contours1[0][a][1])\n",
        "                        break\n",
        "\n",
        "        for b in range(int(len(contours2[0]))):\n",
        "            if contours2[0][b][1]>6:\n",
        "                anglenow=contours2[0][b][0]/contours2[0][b][1]\n",
        "                if np.isclose(anglenow,angle,0.011):\n",
        "                    if contours2[0][b][0] not in y and contours2[0][b][1] not in x:\n",
        "                        y.append(contours2[0][b][0])\n",
        "                        x.append(contours2[0][b][1])\n",
        "                        break\n",
        "\n",
        "        for c in range(int(len(contours3[0]))):\n",
        "            if contours3[0][c][1]>6:\n",
        "                anglenow=contours3[0][c][0]/contours3[0][c][1]\n",
        "                if np.isclose(anglenow,angle,0.011):\n",
        "                    if contours3[0][c][0] not in y and contours3[0][c][1] not in x:\n",
        "                        y.append(contours3[0][c][0])\n",
        "                        x.append(contours3[0][c][1])\n",
        "                        break\n",
        "\n",
        "        for d in range(int(len(contours4[0]))):\n",
        "            if contours4[0][d][1]>6:\n",
        "                anglenow=contours4[0][d][0]/contours4[0][d][1]\n",
        "                if np.isclose(anglenow,angle,0.011):\n",
        "                    if contours4[0][d][0] not in y and contours4[0][d][1] not in x:\n",
        "                        y.append(contours4[0][d][0])\n",
        "                        x.append(contours4[0][d][1])\n",
        "                        break\n",
        "        for e in range(int(len(contours5[0]))):\n",
        "            if contours5[0][e][1]>6:\n",
        "                anglenow=contours5[0][e][0]/contours5[0][e][1]\n",
        "                if np.isclose(anglenow,angle,0.011):\n",
        "                    if contours5[0][e][0] not in y and contours5[0][e][1] not in x:\n",
        "                        y.append(contours5[0][e][0])\n",
        "                        x.append(contours5[0][e][1])\n",
        "                        break\n",
        "        for f in range(int(len(contours6[0]))):\n",
        "            if contours6[0][f][1]>6:\n",
        "                anglenow=contours6[0][f][0]/contours6[0][f][1]\n",
        "                if np.isclose(anglenow,angle,0.011):\n",
        "                    if contours6[0][f][0] not in y and contours6[0][f][1] not in x:\n",
        "                        y.append(contours6[0][f][0])\n",
        "                        x.append(contours6[0][f][1])\n",
        "                        break\n",
        "        for g in range(int(len(contours7[0]))):\n",
        "            if contours7[0][g][1]>6:\n",
        "                anglenow=contours7[0][g][0]/contours7[0][g][1]\n",
        "                if np.isclose(anglenow,angle,0.011):\n",
        "                    if contours7[0][g][0] not in y and contours7[0][g][1] not in x:\n",
        "                        y.append(contours7[0][g][0])\n",
        "                        x.append(contours7[0][g][1])\n",
        "                        break\n",
        "        for h in range(int(len(contours8[0]))):\n",
        "            if contours8[0][h][1]>6:\n",
        "                anglenow=contours8[0][h][0]/contours8[0][h][1]\n",
        "                if np.isclose(anglenow,angle,0.011):\n",
        "                    if contours8[0][h][0] not in y and contours8[0][h][1] not in x:\n",
        "                        y.append(contours8[0][h][0])\n",
        "                        x.append(contours8[0][h][1])\n",
        "                        break\n",
        "        for i in range(int(len(contours9[0]))):\n",
        "            if contours9[0][i][1]>6:\n",
        "                anglenow=contours9[0][i][0]/contours9[0][i][1]\n",
        "                if np.isclose(anglenow,angle,0.011):\n",
        "                    if contours9[0][i][0] not in y and contours9[0][i][1] not in x:\n",
        "                        y.append(contours9[0][i][0])\n",
        "                        x.append(contours9[0][i][1])\n",
        "                        break\n",
        "plt.plot(x,y)\n",
        "contoursXvalue1=x\n",
        "contoursYvalue1=y\n",
        "print(x)\n",
        "print(y)\n"
      ]
    },
    {
      "cell_type": "code",
      "execution_count": null,
      "metadata": {
        "id": "yLcO6B_SlkwT",
        "outputId": "fb218e3b-f4e7-4cc9-bdf9-a4c563210fdb"
      },
      "outputs": [
        {
          "name": "stdout",
          "output_type": "stream",
          "text": [
            "[2.000520823007758, 3.002261469613056, 5.003437384486407, 7.008191902617995, 10.009472827692555, 14.01338365510102, 18.01848876613722, 21.02700879981592]\n",
            "[0.09514053292379233, 0.1427811962317407, 0.23795288393707284, 0.33329476243332085, 0.47602932604375864, 0.6664468440810135, 0.8569211597179225, 1.0]\n"
          ]
        }
      ],
      "source": [
        "x=[6.045646065412429, 6.1165072183306535, 6.185433709115081, 6.338753219793457, 6.435369140288579, 6.6123083088219925, 6.81604988537047, 7.065410281317098, 7.3350836959746815]\n",
        "y=[120.0, 121.0, 123.0, 125.0, 128.0, 132.0, 136.0, 139.0, 145.0]\n",
        "radius=[]\n",
        "for i in range(8):\n",
        "    r=(y[i]-118)**2+(x[i]-6)**2\n",
        "    radius.append(r**0.5)\n",
        "print(radius)\n",
        "normalisedRadius=[]\n",
        "for j in range(8):\n",
        "    normalisedRadius.append(radius[j]/radius[7])\n",
        "print(normalisedRadius)"
      ]
    },
    {
      "cell_type": "code",
      "execution_count": null,
      "metadata": {
        "id": "YsPY5jM_lkwU",
        "outputId": "2e11876b-2e7e-4b68-cdbb-315bbc58a3b0"
      },
      "outputs": [
        {
          "data": {
            "text/plain": [
              "[<matplotlib.lines.Line2D at 0x1d6e83d2c88>]"
            ]
          },
          "execution_count": 80,
          "metadata": {},
          "output_type": "execute_result"
        }
      ],
      "source": [
        "plt.plot(normalisedRadius[1:8],AverageBlosPhotospheric[2:9])\n",
        "plt.plot(normalisedRadius[1:8],AverageBtransPhotospheric[2:9])"
      ]
    },
    {
      "cell_type": "code",
      "execution_count": null,
      "metadata": {
        "id": "pFQHllDZlkwU",
        "outputId": "d97aaddd-37dd-4f1e-f096-eb5a92f3bea3"
      },
      "outputs": [
        {
          "data": {
            "text/plain": [
              "[<matplotlib.lines.Line2D at 0x1d6e6f244e0>]"
            ]
          },
          "execution_count": 58,
          "metadata": {},
          "output_type": "execute_result"
        }
      ],
      "source": [
        "plt.plot(normalisedRadius[1:8],AverageBloschromospheric[2:9])"
      ]
    },
    {
      "cell_type": "code",
      "execution_count": null,
      "metadata": {
        "id": "kophrXgPlkwV",
        "outputId": "41b96a03-d6d3-4d75-93ef-7c9b87e086a5"
      },
      "outputs": [
        {
          "data": {
            "text/plain": [
              "[<matplotlib.lines.Line2D at 0x1d6e1f76860>]"
            ]
          },
          "execution_count": 63,
          "metadata": {},
          "output_type": "execute_result"
        }
      ],
      "source": [
        "plt.plot(normalisedRadius[1:8],Total_B_Photospheric[2:9])\n",
        "plt.plot(normalisedRadius[1:8],AverageBloschromospheric[2:9])"
      ]
    },
    {
      "cell_type": "code",
      "execution_count": null,
      "metadata": {
        "id": "ESf7_iiblkwV"
      },
      "outputs": [],
      "source": [
        ""
      ]
    }
  ],
  "metadata": {
    "kernelspec": {
      "display_name": "Python 3",
      "language": "python",
      "name": "python3"
    },
    "language_info": {
      "codemirror_mode": {
        "name": "ipython",
        "version": 3
      },
      "file_extension": ".py",
      "mimetype": "text/x-python",
      "name": "python",
      "nbconvert_exporter": "python",
      "pygments_lexer": "ipython3",
      "version": "3.6.5"
    },
    "colab": {
      "name": "OneRadiusFinal.ipynb",
      "provenance": [],
      "include_colab_link": true
    }
  },
  "nbformat": 4,
  "nbformat_minor": 0
}